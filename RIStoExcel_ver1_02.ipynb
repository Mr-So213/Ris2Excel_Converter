{
  "nbformat": 4,
  "nbformat_minor": 0,
  "metadata": {
    "colab": {
      "name": "RIStoExcel_ver1.02.ipynb",
      "provenance": [],
      "collapsed_sections": [],
      "authorship_tag": "ABX9TyNHRPp4ZTSJkAEJyktRtlxP"
    },
    "kernelspec": {
      "name": "python3",
      "display_name": "Python 3"
    },
    "language_info": {
      "name": "python"
    }
  },
  "cells": [
    {
      "cell_type": "code",
      "source": [
        "import re\n",
        "import pandas as pd"
      ],
      "metadata": {
        "id": "ShMt-5_Wh2lt"
      },
      "execution_count": null,
      "outputs": []
    },
    {
      "cell_type": "code",
      "source": [
        "#STEP1\n",
        "def ris2matche_list(path):\n",
        "  ris_file = open(path, 'r')\n",
        "  ris_text = ris_file.read()\n",
        "  ris_text = ris_text.replace(\"\\n\", \" \")\n",
        "  ris_file.close()\n",
        "  regex = re.compile(r'(?<=([A-Z][A-Z0-9]  - ))(.*?)(?=([A-Z][A-Z0-9]  - ))')\n",
        "  # ^ This uses a \"positive lookbehind\" [(?<=...)] to start the match after\n",
        "  # '...', then uses a non-greedy (?) wildcard to iteratively move forward\n",
        "  # until BEFORE the final matched expression , which is done with a\n",
        "  # positive lookahead [(?=...)]\n",
        "  matches = re.findall(regex, ris_text)  # Create a list with .findall()\n",
        "  return matches"
      ],
      "metadata": {
        "id": "eRN2oi6YRo_h"
      },
      "execution_count": null,
      "outputs": []
    },
    {
      "cell_type": "code",
      "source": [
        "#STEP2\n",
        "def matches_list2separater(matches):\n",
        "  r_id = []\n",
        "  r_data = []\n",
        "  for match in matches:\n",
        "    item = []\n",
        "    ris_id = match[0][0] + match[0][1]\n",
        "    ris_data = match[1]\n",
        "    r_id.append(ris_id)\n",
        "    r_data.append(ris_data)\n",
        "  \n",
        "  return [r_id, r_data]"
      ],
      "metadata": {
        "id": "EjLPJG-TSZKm"
      },
      "execution_count": null,
      "outputs": []
    },
    {
      "cell_type": "code",
      "source": [
        "#STEP3\n",
        "def ListConverter(id_list, data_list):\n",
        "  items = []\n",
        "  AB = [] #Abstract\n",
        "  AU = [] #Author\n",
        "  CR = [] #Cited References\n",
        "  DO = [] #DOI\n",
        "  KW = [] #Key Words\n",
        "  PY = [] #Publish Year\n",
        "  T2 = [] #Journal Title (if it's possible)\n",
        "  TI = [] #Title\n",
        "  TY = [] #Type of item\n",
        "  N1 = [] #WoS citation count\n",
        "  for id, data in zip(id_list, data_list):\n",
        "    if id == 'AB':\n",
        "      AB.append(data)\n",
        "    elif id == 'AU':\n",
        "      AU.append(data)\n",
        "    elif id == 'CR':\n",
        "      CR.append(data)\n",
        "    elif id == 'DO':\n",
        "      DO.append(data)\n",
        "    elif id == 'KW':\n",
        "      KW.append(data)\n",
        "    elif id == 'PY':\n",
        "      PY.append(data)\n",
        "    elif id == 'T2':\n",
        "      T2.append(data)\n",
        "    elif id == 'TI':\n",
        "      TI.append(data)\n",
        "    elif id == 'TY':\n",
        "      TY.append(data)\n",
        "    elif id == 'PY':\n",
        "      PY.append(data)\n",
        "    elif id == 'N1':\n",
        "      WoScitation = re.search(\"\\d+\", data)\n",
        "      N1.append(WoScitation.group())\n",
        "\n",
        " #RIS file format use 'ER' as an end signal of an item. \n",
        "    elif id == 'ER':\n",
        "      ty = \"; \"\n",
        "      ti = \"; \"\n",
        "      t2 = \"; \"\n",
        "      kw = \"; \"\n",
        "      py = \"; \"\n",
        "      au = \"; \"\n",
        "      ab = \"; \"\n",
        "      do = \"; \"\n",
        "      cr = \"; \"\n",
        "      n1 = \"; \"\n",
        "\n",
        "      if len(TI) > 1:\n",
        "        ti = ti.join(TI)\n",
        "      elif len(TI) == 1:\n",
        "        ti = TI[0]\n",
        "      if len(T2) > 1:\n",
        "        t2 = t2.join(T2)\n",
        "      elif len(T2) == 1:\n",
        "        t2 = T2[0]\n",
        "      if len(KW) > 1:\n",
        "        kw = kw.join(KW)\n",
        "      elif len(KW) == 1:\n",
        "        kw = KW[0]\n",
        "      if len(PY) > 1:\n",
        "        py = py.join(PY)\n",
        "      elif len(PY) == 1:\n",
        "        py = PY[0]\n",
        "      if len(AU) > 1:\n",
        "        au = au.join(AU)\n",
        "      elif len(AU) == 1:\n",
        "        au = AU[0]\n",
        "      if len(AB) > 1:\n",
        "        ab = ab.join(AB)\n",
        "      elif len(AB) == 1:\n",
        "        ab = AB[0]\n",
        "      if len(DO) > 1:\n",
        "        do = do.join(DO)\n",
        "      elif len(DO) == 1:\n",
        "        do = DO[0]\n",
        "      if len(CR) > 1:\n",
        "        cr = cr.join(CR)\n",
        "      elif len(CR) == 1:\n",
        "        cr = CR[0]\n",
        "      if len(TY) > 1:\n",
        "        ty = ty.join(TY)\n",
        "      elif len(TY) == 1:\n",
        "        ty = TY[0]\n",
        "      if len(N1) > 1:\n",
        "        n1 = n1.join(N1)\n",
        "      elif len(N1) == 1:\n",
        "        n1 = N1[0]\n",
        "\n",
        "      try:\n",
        "        items.append([ty, au, ti, int(py), t2, ab, cr, int(n1), do, kw])\n",
        "      except:\n",
        "        items.append([ty, au, ti , 0, t2, ab, cr, 0, do, kw])\n",
        "\n",
        "      AB = []\n",
        "      AU = []\n",
        "      CR = []\n",
        "      DO = []\n",
        "      KW = []\n",
        "      PY = []\n",
        "      T2 = []\n",
        "      TI = []\n",
        "      TY = []\n",
        "      N1 = []\n",
        "\n",
        "    else:\n",
        "      continue\n",
        "\n",
        "  return items"
      ],
      "metadata": {
        "id": "9udSm6_BIO2l"
      },
      "execution_count": null,
      "outputs": []
    },
    {
      "cell_type": "code",
      "source": [
        "def main():\n",
        "  path = input(\"Please input the path of the RIS file: \")\n",
        "  #STEP1\n",
        "  matches = ris2matche_list(path)\n",
        "  #STEP2\n",
        "  r_id_data = matches_list2separater(matches)\n",
        "  #STEP3\n",
        "  items = ListConverter(r_id_data[0], r_id_data[1])\n",
        "  #STEP4 convert to dataframe\n",
        "  df = pd.DataFrame(items, columns=['Publication Type','Authors','Article Title', 'Publication Year', \n",
        "                                    'Source Title','Abstract','Cited References','Times Cited, WoS Core','DOI', 'Keywords Plus'])\n",
        "  df.to_excel(path.replace(\".ris\", \"\") + \".xlsx\", index=False)\n"
      ],
      "metadata": {
        "id": "IjWwaFYOjL7I"
      },
      "execution_count": null,
      "outputs": []
    },
    {
      "cell_type": "code",
      "source": [
        "main()"
      ],
      "metadata": {
        "colab": {
          "base_uri": "https://localhost:8080/"
        },
        "id": "lQOR9HrklL_u",
        "outputId": "c43646ca-c879-45db-c6d0-b28248cd14ce"
      },
      "execution_count": null,
      "outputs": [
        {
          "name": "stdout",
          "output_type": "stream",
          "text": [
            "Please input the path of the RIS file: /content/BM1.ris\n"
          ]
        }
      ]
    }
  ]
}